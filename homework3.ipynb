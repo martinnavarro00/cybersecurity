{
 "cells": [
  {
   "cell_type": "markdown",
   "metadata": {},
   "source": [
    "# Cookies\n",
    "- Go to inspect web source and the go to the cookies tab.\n",
    "- Change the value of the cookie until it give the flag, in my case was 18\n",
    "- **picoCTF{3v3ry1_l0v3s_c00k135_064663be}**"
   ]
  },
  {
   "cell_type": "markdown",
   "metadata": {},
   "source": [
    "# Scavanger Hunt\n",
    "- To get the first part inspect the index.html \n",
    "- Then inspect the mycss.css file to get the second part.\n",
    "- For the third one go to the myjs.js which give a clue. The answer for the key is robots.txt, meaning you have to go to the following link: http://mercury.picoctf.net:39491/robots.txt to get the third part. This give the clue to the next part.\n",
    "- For the forth one go to: http://mercury.picoctf.net:39491/.htaccess \n",
    "- And lastly go to: http://mercury.picoctf.net:39491/.DS_Store to get the final part"
   ]
  },
  {
   "cell_type": "markdown",
   "metadata": {},
   "source": [
    "# Findme\n",
    "\n",
    "- Launch the website as it ask for\n",
    "- Once you enter the password and username you will be redirected to other page.\n",
    "- Go back or see you history and you will the page redirections.\n",
    "- There are two page redirections, the first one is the first part of the flag and the second is the second part of the flag\n",
    "- You must use a 64 decoder to get the flag\n",
    "- **picoCTF{proxies_all_the_way_3d9e3697}**"
   ]
  },
  {
   "cell_type": "markdown",
   "metadata": {},
   "source": [
    "# Inspect HTML\n",
    "\n",
    "- Inspect the websource using the developer tools from safari/chrome or any browser.\n",
    "- Inspect the elements and you will find the flag\n",
    "\n",
    "- **picoCTF{1n5p3t0r_0f_h7ml_1fd8425b}**"
   ]
  },
  {
   "cell_type": "markdown",
   "metadata": {},
   "source": [
    "# It is my Birthday\n",
    "\n",
    "- Search for md5 collision in google\n",
    "- Means it has the same md5 message put with diferent names\n",
    "- In this case a find two files: hello. and erase.\n",
    "- Upload the file and you will the commented pico flag\n",
    "- **picoCTF{c0ngr4ts_u_r_1nv1t3d_73b0c8ad}**\n"
   ]
  },
  {
   "cell_type": "markdown",
   "metadata": {},
   "source": [
    "# Local Authority\n",
    "\n",
    "- Inspect the web files\n",
    "- Go the .js file and you will see the user and password needed to login\n",
    "- Enter both and it will send to a page with the flag\n",
    "\n",
    "- **picoCTF{j5_15_7r4n5p4r3n7_b0c2c9cb}**\n"
   ]
  },
  {
   "cell_type": "markdown",
   "metadata": {},
   "source": [
    "# Login\n",
    "- Inspect the .js file\n",
    "- You will see two single line alert if's each containg a string value\n",
    "- use base64 decoder to have the answer for the user and password and you will obtain the flag.\n",
    "- **picoCTF{53rv3r_53rv3r_53rv3r_53rv3r_53rv3r}**"
   ]
  },
  {
   "cell_type": "markdown",
   "metadata": {},
   "source": [
    "# Logon\n",
    "- Inspect the web page\n",
    "- Go to cookies and search for `admin`\n",
    "- Change `admin` to `True`\n",
    "- Refresh the page and you will get the flag\n",
    "- **picoCTF{th3_c0nsp1r4cy_l1v3s_6edb3f5f}**"
   ]
  },
  {
   "cell_type": "markdown",
   "metadata": {},
   "source": [
    "# Search Source\n",
    "\n",
    "- Inspect the page\n",
    "- Go to Style.css\n",
    "- Scroll down until you find the flag\n",
    "- **picoCTF{1nsp3ti0n_0f_w3bpag3s_8de925a7}**"
   ]
  },
  {
   "cell_type": "markdown",
   "metadata": {},
   "source": [
    "# Where are the Robots\n",
    "\n",
    "- Add to URL `/robots.txt`\n",
    "- You will get something like this: `Disallow: /8028f.html`\n",
    "- To the original URL add: `/8028f.html` and you will get the key\n",
    "- **picoCTF{ca1cu1at1ng_Mach1n3s_8028f}**"
   ]
  }
 ],
 "metadata": {
  "language_info": {
   "name": "python"
  },
  "orig_nbformat": 4
 },
 "nbformat": 4,
 "nbformat_minor": 2
}
