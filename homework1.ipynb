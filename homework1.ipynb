{
 "cells": [
  {
   "cell_type": "markdown",
   "metadata": {},
   "source": [
    "<h1>The Numbers</h1>"
   ]
  },
  {
   "cell_type": "code",
   "execution_count": 19,
   "metadata": {},
   "outputs": [
    {
     "name": "stdout",
     "output_type": "stream",
     "text": [
      "picoCTF {'THENUMBERSMASON'}\n"
     ]
    }
   ],
   "source": [
    "#the numbers\n",
    "import string\n",
    "alphabet=list(string.ascii_uppercase)\n",
    "flag=[20,8,5,14,21,13,2,5,18,19,13,1,19,15,14]#consider we have to reduce 1 to each one since list in programming start in 0 not in 1.\n",
    "flag_update=[i-1 for i in flag]\n",
    "picoCTF=''\n",
    "for i in range(len(flag_update)):\n",
    "    picoCTF+=alphabet[flag_update[i]]\n",
    "\n",
    "print(\"picoCTF\",{picoCTF})"
   ]
  },
  {
   "cell_type": "markdown",
   "metadata": {},
   "source": [
    "<h1>Exercise Name=13</h1>\n",
    "\n",
    "Cryptography can be easy, do you know what ROT13 is? cvpbPGS{abg_gbb_onq_bs_n_ceboyrz}\n",
    "\n",
    "solved in: https://rot13.com\n",
    "answer: picoCTF{not_too_bad_of_a_problem}"
   ]
  },
  {
   "cell_type": "markdown",
   "metadata": {},
   "source": [
    "<h1>Ceasar</h1>\n",
    "\n",
    "<h3>decrypt the following message:</h3>\n",
    "picoCTF{ynkooejcpdanqxeykjrbdofgkq}\n",
    "\n",
    "<h3>Answer</h3>\n",
    "\n",
    "picoCTF{crossingtherubiconvfhsjkou}\n",
    "\n",
    "Solved using the following url: https://cryptii.com/pipes/caesar-cipher"
   ]
  },
  {
   "cell_type": "markdown",
   "metadata": {},
   "source": [
    "<h1>Easy1</h1>\n",
    "\n",
    "<h3>Key: SOLVECRYPTO</h3>\n",
    "<h3>Text: UFJKXQZQUNB</h3>"
   ]
  },
  {
   "cell_type": "code",
   "execution_count": 2,
   "metadata": {},
   "outputs": [
    {
     "data": {
      "text/plain": [
       "'   A B C D E F G H I J K L M N O P Q R S T U V W X Y Z \\n  +----------------------------------------------------\\nA | A B C D E F G H I J K L M N O P Q R S T U V W X Y Z\\nB | B C D E F G H I J K L M N O P Q R S T U V W X Y Z A\\nC | C D E F G H I J K L M N O P Q R S T U V W X Y Z A B\\nD | D E F G H I J K L M N O P Q R S T U V W X Y Z A B C\\nE | E F G H I J K L M N O P Q R S T U V W X Y Z A B C D\\nF | F G H I J K L M N O P Q R S T U V W X Y Z A B C D E\\nG | G H I J K L M N O P Q R S T U V W X Y Z A B C D E F\\nH | H I J K L M N O P Q R S T U V W X Y Z A B C D E F G\\nI | I J K L M N O P Q R S T U V W X Y Z A B C D E F G H\\nJ | J K L M N O P Q R S T U V W X Y Z A B C D E F G H I\\nK | K L M N O P Q R S T U V W X Y Z A B C D E F G H I J\\nL | L M N O P Q R S T U V W X Y Z A B C D E F G H I J K\\nM | M N O P Q R S T U V W X Y Z A B C D E F G H I J K L\\nN | N O P Q R S T U V W X Y Z A B C D E F G H I J K L M\\nO | O P Q R S T U V W X Y Z A B C D E F G H I J K L M N\\nP | P Q R S T U V W X Y Z A B C D E F G H I J K L M N O\\nQ | Q R S T U V W X Y Z A B C D E F G H I J K L M N O P\\nR | R S T U V W X Y Z A B C D E F G H I J K L M N O P Q\\nS | S T U V W X Y Z A B C D E F G H I J K L M N O P Q R\\nT | T U V W X Y Z A B C D E F G H I J K L M N O P Q R S\\nU | U V W X Y Z A B C D E F G H I J K L M N O P Q R S T\\nV | V W X Y Z A B C D E F G H I J K L M N O P Q R S T U\\nW | W X Y Z A B C D E F G H I J K L M N O P Q R S T U V\\nX | X Y Z A B C D E F G H I J K L M N O P Q R S T U V W\\nY | Y Z A B C D E F G H I J K L M N O P Q R S T U V W X\\nZ | Z A B C D E F G H I J K L M N O P Q R S T U V W X Y'"
      ]
     },
     "execution_count": 2,
     "metadata": {},
     "output_type": "execute_result"
    }
   ],
   "source": [
    "''' A B C D E F G H I J K L M N O P Q R S T U V W X Y Z \n",
    "   +----------------------------------------------------\n",
    "A | A B C D E F G H I J K L M N O P Q R S T U V W X Y Z\n",
    "B | B C D E F G H I J K L M N O P Q R S T U V W X Y Z A\n",
    "C | C D E F G H I J K L M N O P Q R S T U V W X Y Z A B\n",
    "D | D E F G H I J K L M N O P Q R S T U V W X Y Z A B C\n",
    "E | E F G H I J K L M N O P Q R S T U V W X Y Z A B C D\n",
    "F | F G H I J K L M N O P Q R S T U V W X Y Z A B C D E\n",
    "G | G H I J K L M N O P Q R S T U V W X Y Z A B C D E F\n",
    "H | H I J K L M N O P Q R S T U V W X Y Z A B C D E F G\n",
    "I | I J K L M N O P Q R S T U V W X Y Z A B C D E F G H\n",
    "J | J K L M N O P Q R S T U V W X Y Z A B C D E F G H I\n",
    "K | K L M N O P Q R S T U V W X Y Z A B C D E F G H I J\n",
    "L | L M N O P Q R S T U V W X Y Z A B C D E F G H I J K\n",
    "M | M N O P Q R S T U V W X Y Z A B C D E F G H I J K L\n",
    "N | N O P Q R S T U V W X Y Z A B C D E F G H I J K L M\n",
    "O | O P Q R S T U V W X Y Z A B C D E F G H I J K L M N\n",
    "P | P Q R S T U V W X Y Z A B C D E F G H I J K L M N O\n",
    "Q | Q R S T U V W X Y Z A B C D E F G H I J K L M N O P\n",
    "R | R S T U V W X Y Z A B C D E F G H I J K L M N O P Q\n",
    "S | S T U V W X Y Z A B C D E F G H I J K L M N O P Q R\n",
    "T | T U V W X Y Z A B C D E F G H I J K L M N O P Q R S\n",
    "U | U V W X Y Z A B C D E F G H I J K L M N O P Q R S T\n",
    "V | V W X Y Z A B C D E F G H I J K L M N O P Q R S T U\n",
    "W | W X Y Z A B C D E F G H I J K L M N O P Q R S T U V\n",
    "X | X Y Z A B C D E F G H I J K L M N O P Q R S T U V W\n",
    "Y | Y Z A B C D E F G H I J K L M N O P Q R S T U V W X\n",
    "Z | Z A B C D E F G H I J K L M N O P Q R S T U V W X Y'''"
   ]
  },
  {
   "cell_type": "markdown",
   "metadata": {},
   "source": [
    "Steps:<br>\n",
    "<ol>\n",
    "<li>Search the first letter of the key in the rows of the table</li>\n",
    "<li>Once in the row search for the letter of the plaintext</li>\n",
    "<li>Once there see the corresponding letter of the columns and that is the letter of the flag</li>\n",
    "</ol>\n",
    "\n",
    "Therefore:<br>\n",
    "CRYPTOISFUN"
   ]
  },
  {
   "cell_type": "markdown",
   "metadata": {},
   "source": [
    "<h1>New Ceasar</h1>"
   ]
  },
  {
   "cell_type": "code",
   "execution_count": 13,
   "metadata": {},
   "outputs": [
    {
     "name": "stdout",
     "output_type": "stream",
     "text": [
      "flag: ©¸¸¹su¥§yªw¨{}vt¥|yzut¥ª©¦vy{v|wu¨¥¥|\n",
      "flag: ºÉ¤ÉÊ¤¶¸»¹¶¶»º·¹¶¶\n",
      "flag: ËÚµÚÛµÇÉÌÊÇÇÌËÈÊÇÇ\n",
      "flag: ÜëÆëì¦Æ¨ØÚ¬ÝªÛ® ©§Ø¯¬­¨§ØÝÜÙ©¬®©¯ª¨ÛØØ¯\n",
      "flag: íü×üý·×¹éë½î»ì¿±º¸é°½¾¹¸éîíêº½¿º°»¹ìéé°\n",
      "\u000eÈèÊúüÎÿÌýÀÂËÉúÁÎÏÊÉúÿþûËÎÀËÁÌÊýúúÁ\n",
      "ß\u0000Ý\u000eÑÓÜÚ\u000bÒßÐÛÚ\u000b\u0000\u000f\fÜßÑÜÒÝÛ\u000e\u000b\u000bÒ\n",
      "flag: \u0010/\n",
      "/ ê\n",
      "ì\u001c\u001eà\u0011î\u001fâäíë\u001cãàáìë\u001c\u0011\u0010\u001díàâíãîì\u001f\u001c\u001cã\n",
      "flag: !0\u001b01û\u001bý-/ñ\"ÿ óõþü-ôñòýü-\"!.þñóþôÿý --ô\n",
      ">32?\u000f\u0002\u0004\u000f\u0005\u0000\u000e1>>\u00050\u00023\u00001\u0004\u0006\u000f\n",
      "flag: CR=RS\u001d=\u001fOA\u0013D\u0011B\u0015\u0017\u0010\u001eO\u0016\u0013\u0014\u001f\u001eODC@\u0010\u0013\u0015\u0010\u0016\u0011\u001fBOO\u0016\n",
      "flag: TcNcd.N PR$U\"S&(!/P'$% /PUTQ!$&!'\" SPP'\n",
      "flag: et_tu?_1ac5f3d7920a85610afeb2572831daa8\n",
      "flag: v`@`BrtFwDuHJCArIFGBArwvsCFHCIDBurrI\n",
      "flag: qQqSWUY[TRZWXSRTWYTZUSZ\n",
      "flag: §§¨bdhfjleckhidcehjekfdk\n"
     ]
    }
   ],
   "source": [
    "import string\n",
    "\n",
    "LOWERCASE_OFFSET = ord(\"a\")\n",
    "ALPHABET = string.ascii_lowercase[:16]\n",
    "\n",
    "def b16_encode(plain):\n",
    "\tenc = \"\"\n",
    "\tfor c in plain:\n",
    "\t\tbinary = \"{0:08b}\".format(ord(c))\n",
    "\t\tenc += ALPHABET[int(binary[:4], 2)]\n",
    "\t\tenc += ALPHABET[int(binary[4:], 2)]\n",
    "\treturn enc\n",
    "\n",
    "def shift(c, k):\n",
    "\tt1 = ord(c) - LOWERCASE_OFFSET\n",
    "\tt2 = ord(k) - LOWERCASE_OFFSET\n",
    "\treturn ALPHABET[(t1 + t2) % len(ALPHABET)]\n",
    "\n",
    "def b16_decode(enc):\n",
    "\tdec=\"\"\n",
    "\tfor i in range(0, len(enc),2):\n",
    "\t\tbinary=\"{0:04b}\".format(ALPHABET.index(enc[i]))+\"{0:04b}\".format(ALPHABET.index(enc[i+1]))\n",
    "\t\tdec +=chr(int(binary,2))\n",
    "\treturn dec\n",
    "\n",
    "flag = \"redacted\"\n",
    "key = \"redacted\"\n",
    "all([k in ALPHABET for k in key])\n",
    "len(key) == 1\n",
    "\n",
    "b16 = b16_encode(flag)\n",
    "enc = \"\"\n",
    "for i, c in enumerate(b16):\n",
    "\tenc += shift(c, key[i % len(key)])\n",
    "#print(enc)\n",
    "\n",
    "enc=\"kjlijdliljhdjdhfkfkhhjkkhhkihlhnhghekfhmhjhkhfhekfkkkjkghghjhlhghmhhhfkikfkfhm\"\n",
    "for key in ALPHABET:\n",
    "\tflag=\"\"\n",
    "\tfor c in enc:\n",
    "\t\tflag+=shift(c,key)\n",
    "\tprint(\"flag:\",b16_decode(flag))\n"
   ]
  },
  {
   "cell_type": "markdown",
   "metadata": {},
   "source": [
    "<h1>Spelling Quiz</h1>\n",
    "key='brcfxba_vfr_mid_hosbrm_iprc_exa_hoav_vwcrm' <br>\n",
    "Solved using quipquip.com<br>\n",
    "where r=e<br>\n",
    "answer: \"perhaps the dog jumped over was just tired\""
   ]
  },
  {
   "cell_type": "markdown",
   "metadata": {},
   "source": [
    "<h1>Easy peasy</h1>"
   ]
  },
  {
   "cell_type": "code",
   "execution_count": 29,
   "metadata": {},
   "outputs": [
    {
     "name": "stdout",
     "output_type": "stream",
     "text": [
      "enctryptedFlag: pictoCTF{ 99072996e6f7d397f6ea0128b4517c23 }\n"
     ]
    }
   ],
   "source": [
    "\n",
    "ef=0x5b1e564b6e415c0e394e0401384b08553a4e5c597b6d4a5c5a684d50013d6e4b#flag\n",
    "#in terminal: python -c \"print('a'*50000-32);print('a'*32) | nc mercury.picoctf.net 20266\"\n",
    "ea=0x0346071d3d1904593d1903573d1950033d1958592a3d1905593d1900573f3d19\n",
    "pa=0x6161616161616161616161616161616161616161616161616161616161616161#'a' in hex\n",
    "\n",
    "encFlag='{:x}'.format(ef^ea^pa)\n",
    "quote_a = bytes.fromhex(encFlag).decode(\"ASCII\")\n",
    "quote   = quote_a.replace(';', '\\n- ')\n",
    "print(\"enctryptedFlag: pictoCTF{\",quote,\"}\")"
   ]
  }
 ],
 "metadata": {
  "kernelspec": {
   "display_name": "base",
   "language": "python",
   "name": "python3"
  },
  "language_info": {
   "codemirror_mode": {
    "name": "ipython",
    "version": 3
   },
   "file_extension": ".py",
   "mimetype": "text/x-python",
   "name": "python",
   "nbconvert_exporter": "python",
   "pygments_lexer": "ipython3",
   "version": "3.11.4"
  },
  "orig_nbformat": 4
 },
 "nbformat": 4,
 "nbformat_minor": 2
}
